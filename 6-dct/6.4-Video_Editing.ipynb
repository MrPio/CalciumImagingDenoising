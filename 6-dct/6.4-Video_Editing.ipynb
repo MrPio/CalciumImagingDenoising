{
 "cells": [
  {
   "cell_type": "code",
   "execution_count": 1,
   "id": "532d53a7",
   "metadata": {},
   "outputs": [],
   "source": [
    "%load_ext autoreload\n",
    "%autoreload 2\n",
    "import sys\n",
    "from pathlib import Path\n",
    "import numpy as np\n",
    "from scipy.fftpack import dctn, idctn\n",
    "from tqdm import tqdm\n",
    "import pandas as pd\n",
    "\n",
    "sys.path.append(str(Path(\"..\").resolve()))\n",
    "from src import *"
   ]
  },
  {
   "cell_type": "markdown",
   "id": "d5d0ee98",
   "metadata": {},
   "source": [
    "# Video Editing"
   ]
  },
  {
   "cell_type": "code",
   "execution_count": 2,
   "id": "b5bcf003",
   "metadata": {},
   "outputs": [],
   "source": [
    "editor = Editor()"
   ]
  },
  {
   "cell_type": "code",
   "execution_count": 17,
   "id": "8bcd0bfc",
   "metadata": {},
   "outputs": [
    {
     "name": "stderr",
     "output_type": "stream",
     "text": [
      "t:  23%|██▎       | 117/513 [13:29<00:12, 30.49it/s, now=None]"
     ]
    },
    {
     "name": "stdout",
     "output_type": "stream",
     "text": [
      "Moviepy - Building video astro_dct_fused_w512_8_24_0_64_composed.mp4.\n",
      "Moviepy - Writing video astro_dct_fused_w512_8_24_0_64_composed.mp4\n",
      "\n"
     ]
    },
    {
     "name": "stderr",
     "output_type": "stream",
     "text": [
      "/run/media/Windows11/Users/MrPio/Desktop/Ide Projects/PycharmProjects/CalciumImagingDenoising/.venv/lib/python3.10/site-packages/moviepy/video/io/ffmpeg_reader.py:123: UserWarning: Warning: in file astro_deepcad.mp4, 786432 bytes wanted but 0 bytes read,at frame 512/513, at time 17.07/17.07 sec. Using the last valid frame instead.\n",
      "  warnings.warn(\"Warning: in file %s, \"%(self.filename)+\n",
      "\n",
      "/run/media/Windows11/Users/MrPio/Desktop/Ide Projects/PycharmProjects/CalciumImagingDenoising/.venv/lib/python3.10/site-packages/moviepy/video/io/ffmpeg_reader.py:123: UserWarning: Warning: in file astro_dct_fused_w512_8_24_0_64.mp4, 786432 bytes wanted but 0 bytes read,at frame 512/513, at time 17.07/17.07 sec. Using the last valid frame instead.\n",
      "  warnings.warn(\"Warning: in file %s, \"%(self.filename)+\n",
      "\n",
      "t:  23%|██▎       | 117/513 [13:47<00:12, 30.49it/s, now=None]"
     ]
    },
    {
     "name": "stdout",
     "output_type": "stream",
     "text": [
      "Moviepy - Done !\n",
      "Moviepy - video ready astro_dct_fused_w512_8_24_0_64_composed.mp4\n"
     ]
    },
    {
     "data": {
      "text/html": [
       "<video src=\"astro_dct_fused_w512_8_24_0_64_composed.mp4\" controls  >\n",
       "      Your browser does not support the <code>video</code> element.\n",
       "    </video>"
      ],
      "text/plain": [
       "<IPython.core.display.Video object>"
      ]
     },
     "execution_count": 17,
     "metadata": {},
     "output_type": "execute_result"
    }
   ],
   "source": [
    "vid1 = \"astro_deepcad.mp4\"\n",
    "vid2 = \"astro_dct_fused_w512_8_24_0_64.mp4\"\n",
    "editor.compose(\n",
    "    [[vid1, vid2]],\n",
    "    output=f\"{Path(vid2).stem}_composed.mp4\",\n",
    ")"
   ]
  },
  {
   "cell_type": "code",
   "execution_count": 3,
   "id": "ba44a161",
   "metadata": {},
   "outputs": [
    {
     "name": "stdout",
     "output_type": "stream",
     "text": [
      "Moviepy - Building video astro_wavelet_fused_w256_db2_l2_composed.mp4.\n",
      "Moviepy - Writing video astro_wavelet_fused_w256_db2_l2_composed.mp4\n",
      "\n"
     ]
    },
    {
     "name": "stderr",
     "output_type": "stream",
     "text": [
      "t:  99%|█████████▉| 510/513 [00:16<00:00, 31.67it/s, now=None]/run/media/Windows11/Users/MrPio/Desktop/Ide Projects/PycharmProjects/CalciumImagingDenoising/.venv/lib/python3.10/site-packages/moviepy/video/io/ffmpeg_reader.py:123: UserWarning: Warning: in file astro_deepcad.mp4, 786432 bytes wanted but 0 bytes read,at frame 512/513, at time 17.07/17.07 sec. Using the last valid frame instead.\n",
      "  warnings.warn(\"Warning: in file %s, \"%(self.filename)+\n",
      "\n",
      "/run/media/Windows11/Users/MrPio/Desktop/Ide Projects/PycharmProjects/CalciumImagingDenoising/.venv/lib/python3.10/site-packages/moviepy/video/io/ffmpeg_reader.py:123: UserWarning: Warning: in file astro_wavelet_fused_w256_db2_l2.mp4, 786432 bytes wanted but 0 bytes read,at frame 512/513, at time 17.07/17.07 sec. Using the last valid frame instead.\n",
      "  warnings.warn(\"Warning: in file %s, \"%(self.filename)+\n",
      "\n",
      "                                                              \r"
     ]
    },
    {
     "name": "stdout",
     "output_type": "stream",
     "text": [
      "Moviepy - Done !\n",
      "Moviepy - video ready astro_wavelet_fused_w256_db2_l2_composed.mp4\n"
     ]
    },
    {
     "data": {
      "text/html": [
       "<video src=\"astro_wavelet_fused_w256_db2_l2_composed.mp4\" controls  >\n",
       "      Your browser does not support the <code>video</code> element.\n",
       "    </video>"
      ],
      "text/plain": [
       "<IPython.core.display.Video object>"
      ]
     },
     "execution_count": 3,
     "metadata": {},
     "output_type": "execute_result"
    }
   ],
   "source": [
    "vid1 = \"astro_deepcad.mp4\"\n",
    "vid2 = \"astro_wavelet_fused_w256_db2_l2.mp4\"\n",
    "editor.compose(\n",
    "    [[vid1, vid2]],\n",
    "    output=f\"{Path(vid2).stem}_composed.mp4\",\n",
    ")"
   ]
  }
 ],
 "metadata": {
  "kernelspec": {
   "display_name": ".venv",
   "language": "python",
   "name": "python3"
  },
  "language_info": {
   "codemirror_mode": {
    "name": "ipython",
    "version": 3
   },
   "file_extension": ".py",
   "mimetype": "text/x-python",
   "name": "python",
   "nbconvert_exporter": "python",
   "pygments_lexer": "ipython3",
   "version": "3.10.16"
  }
 },
 "nbformat": 4,
 "nbformat_minor": 5
}
