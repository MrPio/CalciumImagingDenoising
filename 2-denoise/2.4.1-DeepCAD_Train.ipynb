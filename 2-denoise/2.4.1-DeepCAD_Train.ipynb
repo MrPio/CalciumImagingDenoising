{
 "cells": [
  {
   "cell_type": "code",
   "execution_count": 16,
   "metadata": {
    "collapsed": true
   },
   "outputs": [
    {
     "name": "stdout",
     "output_type": "stream",
     "text": [
      "The autoreload extension is already loaded. To reload it, use:\n",
      "  %reload_ext autoreload\n"
     ]
    }
   ],
   "source": [
    "%load_ext autoreload\n",
    "%autoreload 2\n",
    "import sys\n",
    "from pathlib import Path\n",
    "from IPython.display import HTML, Video,display\n",
    "from csbdeep.utils import normalize\n",
    "import numpy as np\n",
    "import tifffile as tiff\n",
    "import imageio.v3 as iio\n",
    "from tqdm import tqdm\n",
    "\n",
    "sys.path.append(str(Path(\"..\").resolve()))\n",
    "from src import *"
   ]
  },
  {
   "cell_type": "markdown",
   "metadata": {},
   "source": [
    "# DeepCAD-RT Training\n",
    "\n",
    "ℹ️ This notebook visualizes the trainings made with [deepcad_train.py](deepcad_train.py)."
   ]
  },
  {
   "cell_type": "markdown",
   "metadata": {},
   "source": [
    "## Convert test video from TIFF to MP4"
   ]
  },
  {
   "cell_type": "code",
   "execution_count": null,
   "metadata": {},
   "outputs": [],
   "source": [
    "train_dir = Path(\"pth/motion_corrected_202507301826\")\n",
    "result_folder = \"2\"\n",
    "\n",
    "for tiff_file in tqdm(train_dir.glob(\"*.tif\")):\n",
    "    prediction = tiff.imread(tiff_file).astype(np.float32)\n",
    "    prediction_norm = normalize(prediction, 1, 99)\n",
    "    prediction_norm = np.clip(prediction_norm, max=1)\n",
    "    output_path = \"results/{result_folder}/{tiff_file.stem}.mp4\"\n",
    "\n",
    "    iio.imwrite(\n",
    "        uri=output_path,\n",
    "        image=prediction_norm,\n",
    "        fps=30,\n",
    "        codec=\"libx264\",\n",
    "        bitrate=\"5000k\",\n",
    "    )"
   ]
  },
  {
   "cell_type": "markdown",
   "metadata": {},
   "source": [
    "## Show test video"
   ]
  },
  {
   "cell_type": "code",
   "execution_count": 17,
   "metadata": {},
   "outputs": [],
   "source": [
    "TRAIN_INDEX = 2\n",
    "prediction_dir = Path(f\"results/{TRAIN_INDEX}\")"
   ]
  },
  {
   "cell_type": "code",
   "execution_count": 18,
   "metadata": {},
   "outputs": [
    {
     "name": "stdout",
     "output_type": "stream",
     "text": [
      "Showing \u001b[1m\u001b[32mresults/2/M2P_astro_OF_001_concatenate_corrected_alignedf_E_07_Iter_1009.mp4\u001b[0m\n"
     ]
    },
    {
     "data": {
      "text/html": [
       "<video src=\"results/2/M2P_astro_OF_001_concatenate_corrected_alignedf_E_07_Iter_1009.mp4\" controls  >\n",
       "      Your browser does not support the <code>video</code> element.\n",
       "    </video>"
      ],
      "text/plain": [
       "<IPython.core.display.Video object>"
      ]
     },
     "metadata": {},
     "output_type": "display_data"
    },
    {
     "name": "stdout",
     "output_type": "stream",
     "text": [
      "Showing \u001b[1m\u001b[32mresults/2/M2P_astro_OF_001_concatenate_corrected_alignedf_E_16_Iter_1009.mp4\u001b[0m\n"
     ]
    },
    {
     "data": {
      "text/html": [
       "<video src=\"results/2/M2P_astro_OF_001_concatenate_corrected_alignedf_E_16_Iter_1009.mp4\" controls  >\n",
       "      Your browser does not support the <code>video</code> element.\n",
       "    </video>"
      ],
      "text/plain": [
       "<IPython.core.display.Video object>"
      ]
     },
     "metadata": {},
     "output_type": "display_data"
    },
    {
     "name": "stdout",
     "output_type": "stream",
     "text": [
      "Showing \u001b[1m\u001b[32mresults/2/M2P_astro_OF_001_concatenate_corrected_alignedf_E_15_Iter_1009.mp4\u001b[0m\n"
     ]
    },
    {
     "data": {
      "text/html": [
       "<video src=\"results/2/M2P_astro_OF_001_concatenate_corrected_alignedf_E_15_Iter_1009.mp4\" controls  >\n",
       "      Your browser does not support the <code>video</code> element.\n",
       "    </video>"
      ],
      "text/plain": [
       "<IPython.core.display.Video object>"
      ]
     },
     "metadata": {},
     "output_type": "display_data"
    },
    {
     "name": "stdout",
     "output_type": "stream",
     "text": [
      "Showing \u001b[1m\u001b[32mresults/2/M2P_astro_OF_001_concatenate_corrected_alignedf_E_01_Iter_1009.mp4\u001b[0m\n"
     ]
    },
    {
     "data": {
      "text/html": [
       "<video src=\"results/2/M2P_astro_OF_001_concatenate_corrected_alignedf_E_01_Iter_1009.mp4\" controls  >\n",
       "      Your browser does not support the <code>video</code> element.\n",
       "    </video>"
      ],
      "text/plain": [
       "<IPython.core.display.Video object>"
      ]
     },
     "metadata": {},
     "output_type": "display_data"
    },
    {
     "name": "stdout",
     "output_type": "stream",
     "text": [
      "Showing \u001b[1m\u001b[32mresults/2/M2P_astro_OF_001_concatenate_corrected_alignedf_E_17_Iter_1009.mp4\u001b[0m\n"
     ]
    },
    {
     "data": {
      "text/html": [
       "<video src=\"results/2/M2P_astro_OF_001_concatenate_corrected_alignedf_E_17_Iter_1009.mp4\" controls  >\n",
       "      Your browser does not support the <code>video</code> element.\n",
       "    </video>"
      ],
      "text/plain": [
       "<IPython.core.display.Video object>"
      ]
     },
     "metadata": {},
     "output_type": "display_data"
    },
    {
     "name": "stdout",
     "output_type": "stream",
     "text": [
      "Showing \u001b[1m\u001b[32mresults/2/M2P_astro_OF_001_concatenate_corrected_alignedf_E_11_Iter_1009.mp4\u001b[0m\n"
     ]
    },
    {
     "data": {
      "text/html": [
       "<video src=\"results/2/M2P_astro_OF_001_concatenate_corrected_alignedf_E_11_Iter_1009.mp4\" controls  >\n",
       "      Your browser does not support the <code>video</code> element.\n",
       "    </video>"
      ],
      "text/plain": [
       "<IPython.core.display.Video object>"
      ]
     },
     "metadata": {},
     "output_type": "display_data"
    },
    {
     "name": "stdout",
     "output_type": "stream",
     "text": [
      "Showing \u001b[1m\u001b[32mresults/2/M2P_astro_OF_001_concatenate_corrected_alignedf_E_04_Iter_1009.mp4\u001b[0m\n"
     ]
    },
    {
     "data": {
      "text/html": [
       "<video src=\"results/2/M2P_astro_OF_001_concatenate_corrected_alignedf_E_04_Iter_1009.mp4\" controls  >\n",
       "      Your browser does not support the <code>video</code> element.\n",
       "    </video>"
      ],
      "text/plain": [
       "<IPython.core.display.Video object>"
      ]
     },
     "metadata": {},
     "output_type": "display_data"
    },
    {
     "name": "stdout",
     "output_type": "stream",
     "text": [
      "Showing \u001b[1m\u001b[32mresults/2/M2P_astro_OF_001_concatenate_corrected_alignedf_E_14_Iter_1009.mp4\u001b[0m\n"
     ]
    },
    {
     "data": {
      "text/html": [
       "<video src=\"results/2/M2P_astro_OF_001_concatenate_corrected_alignedf_E_14_Iter_1009.mp4\" controls  >\n",
       "      Your browser does not support the <code>video</code> element.\n",
       "    </video>"
      ],
      "text/plain": [
       "<IPython.core.display.Video object>"
      ]
     },
     "metadata": {},
     "output_type": "display_data"
    },
    {
     "name": "stdout",
     "output_type": "stream",
     "text": [
      "Showing \u001b[1m\u001b[32mresults/2/M2P_astro_OF_001_concatenate_corrected_alignedf_E_18_Iter_1009.mp4\u001b[0m\n"
     ]
    },
    {
     "data": {
      "text/html": [
       "<video src=\"results/2/M2P_astro_OF_001_concatenate_corrected_alignedf_E_18_Iter_1009.mp4\" controls  >\n",
       "      Your browser does not support the <code>video</code> element.\n",
       "    </video>"
      ],
      "text/plain": [
       "<IPython.core.display.Video object>"
      ]
     },
     "metadata": {},
     "output_type": "display_data"
    },
    {
     "name": "stdout",
     "output_type": "stream",
     "text": [
      "Showing \u001b[1m\u001b[32mresults/2/M2P_astro_OF_001_concatenate_corrected_alignedf_E_19_Iter_1009.mp4\u001b[0m\n"
     ]
    },
    {
     "data": {
      "text/html": [
       "<video src=\"results/2/M2P_astro_OF_001_concatenate_corrected_alignedf_E_19_Iter_1009.mp4\" controls  >\n",
       "      Your browser does not support the <code>video</code> element.\n",
       "    </video>"
      ],
      "text/plain": [
       "<IPython.core.display.Video object>"
      ]
     },
     "metadata": {},
     "output_type": "display_data"
    },
    {
     "name": "stdout",
     "output_type": "stream",
     "text": [
      "Showing \u001b[1m\u001b[32mresults/2/M2P_astro_OF_001_concatenate_corrected_alignedf_E_13_Iter_1009.mp4\u001b[0m\n"
     ]
    },
    {
     "data": {
      "text/html": [
       "<video src=\"results/2/M2P_astro_OF_001_concatenate_corrected_alignedf_E_13_Iter_1009.mp4\" controls  >\n",
       "      Your browser does not support the <code>video</code> element.\n",
       "    </video>"
      ],
      "text/plain": [
       "<IPython.core.display.Video object>"
      ]
     },
     "metadata": {},
     "output_type": "display_data"
    },
    {
     "name": "stdout",
     "output_type": "stream",
     "text": [
      "Showing \u001b[1m\u001b[32mresults/2/M2P_astro_OF_001_concatenate_corrected_alignedf_E_09_Iter_1009.mp4\u001b[0m\n"
     ]
    },
    {
     "data": {
      "text/html": [
       "<video src=\"results/2/M2P_astro_OF_001_concatenate_corrected_alignedf_E_09_Iter_1009.mp4\" controls  >\n",
       "      Your browser does not support the <code>video</code> element.\n",
       "    </video>"
      ],
      "text/plain": [
       "<IPython.core.display.Video object>"
      ]
     },
     "metadata": {},
     "output_type": "display_data"
    },
    {
     "name": "stdout",
     "output_type": "stream",
     "text": [
      "Showing \u001b[1m\u001b[32mresults/2/M2P_astro_OF_001_concatenate_corrected_alignedf_E_08_Iter_1009.mp4\u001b[0m\n"
     ]
    },
    {
     "data": {
      "text/html": [
       "<video src=\"results/2/M2P_astro_OF_001_concatenate_corrected_alignedf_E_08_Iter_1009.mp4\" controls  >\n",
       "      Your browser does not support the <code>video</code> element.\n",
       "    </video>"
      ],
      "text/plain": [
       "<IPython.core.display.Video object>"
      ]
     },
     "metadata": {},
     "output_type": "display_data"
    },
    {
     "name": "stdout",
     "output_type": "stream",
     "text": [
      "Showing \u001b[1m\u001b[32mresults/2/M2P_astro_OF_001_concatenate_corrected_alignedf_E_05_Iter_1009.mp4\u001b[0m\n"
     ]
    },
    {
     "data": {
      "text/html": [
       "<video src=\"results/2/M2P_astro_OF_001_concatenate_corrected_alignedf_E_05_Iter_1009.mp4\" controls  >\n",
       "      Your browser does not support the <code>video</code> element.\n",
       "    </video>"
      ],
      "text/plain": [
       "<IPython.core.display.Video object>"
      ]
     },
     "metadata": {},
     "output_type": "display_data"
    },
    {
     "name": "stdout",
     "output_type": "stream",
     "text": [
      "Showing \u001b[1m\u001b[32mresults/2/M2P_astro_OF_001_concatenate_corrected_alignedf_E_02_Iter_1009.mp4\u001b[0m\n"
     ]
    },
    {
     "data": {
      "text/html": [
       "<video src=\"results/2/M2P_astro_OF_001_concatenate_corrected_alignedf_E_02_Iter_1009.mp4\" controls  >\n",
       "      Your browser does not support the <code>video</code> element.\n",
       "    </video>"
      ],
      "text/plain": [
       "<IPython.core.display.Video object>"
      ]
     },
     "metadata": {},
     "output_type": "display_data"
    },
    {
     "name": "stdout",
     "output_type": "stream",
     "text": [
      "Showing \u001b[1m\u001b[32mresults/2/M2P_astro_OF_001_concatenate_corrected_alignedf_E_06_Iter_1009.mp4\u001b[0m\n"
     ]
    },
    {
     "data": {
      "text/html": [
       "<video src=\"results/2/M2P_astro_OF_001_concatenate_corrected_alignedf_E_06_Iter_1009.mp4\" controls  >\n",
       "      Your browser does not support the <code>video</code> element.\n",
       "    </video>"
      ],
      "text/plain": [
       "<IPython.core.display.Video object>"
      ]
     },
     "metadata": {},
     "output_type": "display_data"
    },
    {
     "name": "stdout",
     "output_type": "stream",
     "text": [
      "Showing \u001b[1m\u001b[32mresults/2/M2P_astro_OF_001_concatenate_corrected_alignedf_E_12_Iter_1009.mp4\u001b[0m\n"
     ]
    },
    {
     "data": {
      "text/html": [
       "<video src=\"results/2/M2P_astro_OF_001_concatenate_corrected_alignedf_E_12_Iter_1009.mp4\" controls  >\n",
       "      Your browser does not support the <code>video</code> element.\n",
       "    </video>"
      ],
      "text/plain": [
       "<IPython.core.display.Video object>"
      ]
     },
     "metadata": {},
     "output_type": "display_data"
    },
    {
     "name": "stdout",
     "output_type": "stream",
     "text": [
      "Showing \u001b[1m\u001b[32mresults/2/M2P_astro_OF_001_concatenate_corrected_alignedf_E_03_Iter_1009.mp4\u001b[0m\n"
     ]
    },
    {
     "data": {
      "text/html": [
       "<video src=\"results/2/M2P_astro_OF_001_concatenate_corrected_alignedf_E_03_Iter_1009.mp4\" controls  >\n",
       "      Your browser does not support the <code>video</code> element.\n",
       "    </video>"
      ],
      "text/plain": [
       "<IPython.core.display.Video object>"
      ]
     },
     "metadata": {},
     "output_type": "display_data"
    },
    {
     "name": "stdout",
     "output_type": "stream",
     "text": [
      "Showing \u001b[1m\u001b[32mresults/2/M2P_astro_OF_001_concatenate_corrected_alignedf_E_10_Iter_1009.mp4\u001b[0m\n"
     ]
    },
    {
     "data": {
      "text/html": [
       "<video src=\"results/2/M2P_astro_OF_001_concatenate_corrected_alignedf_E_10_Iter_1009.mp4\" controls  >\n",
       "      Your browser does not support the <code>video</code> element.\n",
       "    </video>"
      ],
      "text/plain": [
       "<IPython.core.display.Video object>"
      ]
     },
     "metadata": {},
     "output_type": "display_data"
    }
   ],
   "source": [
    "for file in prediction_dir.glob(\"*.mp4\"):\n",
    "    cprint(\"Showing\",f\"green:{file}\")\n",
    "    display(Video(url=str(file)))"
   ]
  }
 ],
 "metadata": {
  "kernelspec": {
   "display_name": ".venv",
   "language": "python",
   "name": "python3"
  },
  "language_info": {
   "codemirror_mode": {
    "name": "ipython",
    "version": 3
   },
   "file_extension": ".py",
   "mimetype": "text/x-python",
   "name": "python",
   "nbconvert_exporter": "python",
   "pygments_lexer": "ipython3",
   "version": "3.11.7"
  },
  "toc": {
   "base_numbering": 1,
   "nav_menu": {},
   "number_sections": true,
   "sideBar": true,
   "skip_h1_title": false,
   "title_cell": "Table of Contents",
   "title_sidebar": "Contents",
   "toc_cell": false,
   "toc_position": {},
   "toc_section_display": true,
   "toc_window_display": false
  },
  "varInspector": {
   "cols": {
    "lenName": 16,
    "lenType": 16,
    "lenVar": 40
   },
   "kernels_config": {
    "python": {
     "delete_cmd_postfix": "",
     "delete_cmd_prefix": "del ",
     "library": "var_list.py",
     "varRefreshCmd": "print(var_dic_list())"
    },
    "r": {
     "delete_cmd_postfix": ") ",
     "delete_cmd_prefix": "rm(",
     "library": "var_list.r",
     "varRefreshCmd": "cat(var_dic_list()) "
    }
   },
   "types_to_exclude": [
    "module",
    "function",
    "builtin_function_or_method",
    "instance",
    "_Feature"
   ],
   "window_display": false
  }
 },
 "nbformat": 4,
 "nbformat_minor": 2
}
