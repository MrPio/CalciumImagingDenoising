{
 "cells": [
  {
   "cell_type": "code",
   "execution_count": 1,
   "id": "d11ead28",
   "metadata": {},
   "outputs": [],
   "source": [
    "%load_ext autoreload\n",
    "%autoreload 2\n",
    "import matplotlib.pyplot as plt\n",
    "import tifffile as tiff\n",
    "import cv2\n",
    "import numpy as np\n",
    "from csbdeep.utils import normalize\n",
    "import sys\n",
    "from pathlib import Path\n",
    "from PIL import Image\n",
    "import imageio.v3 as iio\n",
    "from IPython.display import HTML, Video\n",
    "from csbdeep.utils import normalize\n",
    "import pandas as pd\n",
    "\n",
    "sys.path.append(str(Path(\"..\").resolve()))\n",
    "from src import *"
   ]
  },
  {
   "cell_type": "markdown",
   "id": "86087439",
   "metadata": {},
   "source": [
    "# Visualize OABF Dataset (Astro)\n",
    "In this notebook we're going to load the \"Astro\" of the OABF dataset. The dataset comprises 3 versions of the same footage:\n",
    "1. *Raw* measurements\n",
    "2. *Motion corrected* processed\n",
    "3. *Cleaned* version obtained using DeepCad"
   ]
  },
  {
   "cell_type": "code",
   "execution_count": 2,
   "id": "f650fd8f",
   "metadata": {},
   "outputs": [],
   "source": [
    "dataset = Path(\"../dataset/dati_per_erzelli/mini2p_astro/good_example/2024Feb06-007\")\n",
    "sample_dir = Path(\"../dataset/sample\")\n",
    "raw_file = dataset / \"raw_data/tSer_00001.tif\"\n",
    "motion_corrected_file = dataset / \"motion_corrected/M2P_astro_OF_001_concatenate_corrected_aligned.tiff\"\n",
    "motion_corrected_sample_file = sample_dir / \"motion_corrected\" / \"oabf_good_example.tiff\"\n",
    "deepcad_file = dataset / \"denoised/M2P_astro_OF_001_concatenate_corrected_alignedf_E_05_Iter_6048_output.tif\"\n",
    "deepcad_sample_file = sample_dir / \"deepcad\" / \"oabf_good_example.tiff\""
   ]
  },
  {
   "cell_type": "code",
   "execution_count": 3,
   "id": "f2f5a7ce",
   "metadata": {},
   "outputs": [],
   "source": [
    "for path in [\n",
    "    sample_dir,\n",
    "    raw_file,\n",
    "    motion_corrected_file,\n",
    "    deepcad_file,\n",
    "    motion_corrected_sample_file,\n",
    "    deepcad_sample_file,\n",
    "]:\n",
    "    (path.parent if path.is_file() else path).mkdir(exist_ok=True, parents=True)"
   ]
  },
  {
   "cell_type": "markdown",
   "id": "d0cc8c6a",
   "metadata": {},
   "source": [
    "## Extract Samples"
   ]
  },
  {
   "cell_type": "markdown",
   "id": "b92c0555",
   "metadata": {},
   "source": [
    "### 1. Raw measurement"
   ]
  },
  {
   "cell_type": "code",
   "execution_count": null,
   "id": "9ae7b4a0",
   "metadata": {},
   "outputs": [],
   "source": [
    "# 3m\n",
    "raw_tiff = tiff.imread(raw_file).astype(np.float32)"
   ]
  },
  {
   "cell_type": "markdown",
   "id": "7ecac88b",
   "metadata": {},
   "source": [
    "### 2. Motion corrected"
   ]
  },
  {
   "cell_type": "code",
   "execution_count": null,
   "id": "57a53b1c",
   "metadata": {},
   "outputs": [],
   "source": [
    "# 40s\n",
    "motion_corrected_tiff = tiff.imread(motion_corrected_file).astype(np.float32)\n",
    "tiff.imwrite(motion_corrected_sample_file, motion_corrected_tiff[:500], dtype=np.float32)"
   ]
  },
  {
   "cell_type": "markdown",
   "id": "6a74e255",
   "metadata": {},
   "source": [
    "### 3. Denoised with DeepCAD\n",
    "> Note: the deepCAD file is 3 times longer than the first two ($10,120$ against $3,360$)."
   ]
  },
  {
   "cell_type": "code",
   "execution_count": null,
   "id": "3e5a1be0",
   "metadata": {},
   "outputs": [],
   "source": [
    "denoised_tiff = tiff.imread(deepcad_file).astype(np.float32)\n",
    "tiff.imwrite(deepcad_sample_file, denoised_tiff[:500], dtype=np.float32)"
   ]
  },
  {
   "cell_type": "markdown",
   "id": "6cc12b8e",
   "metadata": {},
   "source": [
    "### Overview of the extracted samples"
   ]
  },
  {
   "cell_type": "code",
   "execution_count": null,
   "id": "c40e31d9",
   "metadata": {},
   "outputs": [],
   "source": [
    "for i in [0, 1008, 2016]:\n",
    "    raw = np.load(open(f\"{sample_dir}/raw/oabf_{i}.npy\", \"rb\"))\n",
    "    motion_corrected = np.load(open(f\"{sample_dir}/motion_corrected/oabf_{i}.npy\", \"rb\"))\n",
    "    deepcad = np.load(open(f\"{sample_dir}/deepcad/oabf_{i}.npy\", \"rb\"))\n",
    "    imshow({\"Raw\": raw, \"Motion Corrected\": motion_corrected, \"DeepCAD\": deepcad}, size=3)"
   ]
  },
  {
   "cell_type": "markdown",
   "id": "b99afe50",
   "metadata": {},
   "source": [
    "## Visualize values distribution"
   ]
  },
  {
   "cell_type": "markdown",
   "id": "47ced7b2",
   "metadata": {},
   "source": [
    "The values distribution is exponential"
   ]
  },
  {
   "cell_type": "code",
   "execution_count": null,
   "id": "c104ed8e",
   "metadata": {},
   "outputs": [
    {
     "data": {
      "image/png": "[encoded data removed]",
      "text/plain": [
       "<Figure size 1200x500 with 1 Axes>"
      ]
     },
     "metadata": {},
     "output_type": "display_data"
    }
   ],
   "source": [
    "pd.Series(motion_corrected.flatten()).hist(figsize=(12, 5), bins=100,edgecolor='white')\n",
    "plt.yscale(\"log\")"
   ]
  },
  {
   "cell_type": "markdown",
   "id": "6c29b66c",
   "metadata": {},
   "source": [
    "## Export motion corrected slice as video"
   ]
  },
  {
   "cell_type": "code",
   "execution_count": null,
   "id": "e93b8663",
   "metadata": {},
   "outputs": [],
   "source": [
    "motion_corrected_norm = normalize(motion_corrected, 3, 99)\n",
    "motion_corrected_norm = np.clip(motion_corrected_norm, max=1)"
   ]
  },
  {
   "cell_type": "code",
   "execution_count": null,
   "id": "f9fb7e2e",
   "metadata": {},
   "outputs": [],
   "source": [
    "iio.imwrite(\n",
    "    uri='astro_motion_corrected.mp4',\n",
    "    image=motion_corrected_norm,\n",
    "    fps=30,\n",
    "    codec=\"libx264\",  # H.264 codec\n",
    "    bitrate=\"6000k\",\n",
    ");"
   ]
  },
  {
   "cell_type": "code",
   "execution_count": null,
   "id": "57ec1c25",
   "metadata": {},
   "outputs": [
    {
     "data": {
      "text/html": [
       "<video src=\"motion_corrected.mp4\" controls  >\n",
       "      Your browser does not support the <code>video</code> element.\n",
       "    </video>"
      ],
      "text/plain": [
       "<IPython.core.display.Video object>"
      ]
     },
     "execution_count": 2,
     "metadata": {},
     "output_type": "execute_result"
    }
   ],
   "source": [
    "Video(url=\"astro_motion_corrected.mp4\")"
   ]
  },
  {
   "cell_type": "code",
   "execution_count": 10,
   "id": "d4e88e7e",
   "metadata": {},
   "outputs": [],
   "source": [
    "deepcad=tiff.imread(deepcad_sample_file)"
   ]
  },
  {
   "cell_type": "code",
   "execution_count": 11,
   "id": "c6f6c04a",
   "metadata": {},
   "outputs": [],
   "source": [
    "deepcad_norm = normalize(deepcad, 1, 99)\n",
    "deepcad_norm = np.clip(deepcad_norm, max=1)"
   ]
  },
  {
   "cell_type": "code",
   "execution_count": null,
   "id": "cac0e135",
   "metadata": {},
   "outputs": [],
   "source": [
    "iio.imwrite(\n",
    "    uri='astro_deepcad_theirs.mp4',\n",
    "    image=deepcad_norm,\n",
    "    fps=30,\n",
    "    codec=\"libx264\",  # H.264 codec\n",
    "    bitrate=\"5000k\",\n",
    ");"
   ]
  },
  {
   "cell_type": "code",
   "execution_count": null,
   "id": "997172d6",
   "metadata": {},
   "outputs": [
    {
     "data": {
      "text/html": [
       "<video src=\"deepcad_theirs.mp4\" controls  >\n",
       "      Your browser does not support the <code>video</code> element.\n",
       "    </video>"
      ],
      "text/plain": [
       "<IPython.core.display.Video object>"
      ]
     },
     "execution_count": 16,
     "metadata": {},
     "output_type": "execute_result"
    }
   ],
   "source": [
    "Video(\"astro_deepcad_theirs.mp4\")"
   ]
  }
 ],
 "metadata": {
  "kernelspec": {
   "display_name": ".venv",
   "language": "python",
   "name": "python3"
  },
  "language_info": {
   "codemirror_mode": {
    "name": "ipython",
    "version": 3
   },
   "file_extension": ".py",
   "mimetype": "text/x-python",
   "name": "python",
   "nbconvert_exporter": "python",
   "pygments_lexer": "ipython3",
   "version": "3.11.7"
  }
 },
 "nbformat": 4,
 "nbformat_minor": 5
}
